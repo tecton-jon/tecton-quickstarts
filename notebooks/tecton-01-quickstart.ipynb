{
 "cells": [
  {
   "cell_type": "markdown",
   "metadata": {},
   "source": [
    "# 🚀 Tecton Quickstart\n",
    "---\n",
    "\n",
    "Tecton helps you build and productionize AI applications by making it easy to define, test, and deploy features for model training and serving.\n",
    "\n",
    "Let's take a quick look at how you can build a low-latency streaming feature for a fraud detection use case using nothing but Python.\n",
    "\n",
    "For an end-to-end tutorial that takes you from raw data to a real-time model, check out Building a Production AI Application with Tecton (tecton-02-building.ipynb.)"
   ]
  },
  {
   "cell_type": "markdown",
   "metadata": {},
   "source": [
    "## ⚙️ Install Tecton"
   ]
  },
  {
   "cell_type": "code",
   "execution_count": 1,
   "metadata": {},
   "outputs": [
    {
     "name": "stdout",
     "output_type": "stream",
     "text": [
      "Note: you may need to restart the kernel to use updated packages.\n"
     ]
    }
   ],
   "source": [
    "%pip install 'tecton[rift]' --quiet --upgrade"
   ]
  },
  {
   "cell_type": "markdown",
   "metadata": {},
   "source": [
    "## ✅ Log in to Tecton\n",
    "\n",
    "Make sure to hit `enter` after pasting in your authentication token."
   ]
  },
  {
   "cell_type": "code",
   "execution_count": 2,
   "metadata": {},
   "outputs": [
    {
     "name": "stdout",
     "output_type": "stream",
     "text": [
      "Already logged in to https://demo-pangolin.tecton.ai as UserProfile(name='Jonathan Varley', email='jon@tecton.ai', id='00ut35dahebreB27E357'). To switch users, run `tecton.logout` then `tecton.login`\n",
      "Version: 0.9.12\n",
      "Git Commit: 7b1322f6df430b497a8fd0535186da3bf3ee6612\n",
      "Build Datetime: 2024-06-25T14:37:08\n"
     ]
    }
   ],
   "source": [
    "import tecton\n",
    "\n",
    "tecton.login(\"demo-pangolin.tecton.ai\")\n",
    "tecton.set_validation_mode(\"auto\")\n",
    "\n",
    "tecton.version.summary()"
   ]
  },
  {
   "cell_type": "markdown",
   "metadata": {},
   "source": [
    "## 🧪 Define and test a streaming feature\n",
    "\n",
    "Using Tecton's Feature Engineering Framework we will define 3 new features for our fraud detection model:\n",
    "\n",
    "- A user's total transaction amount in the last 1 minute\n",
    "- A user's total transaction amount in the last 1 hour\n",
    "- A user's total transaction amount in the last 30 days\n",
    "\n",
    "To do so, we will first define a [Stream Source](https://docs.tecton.ai/docs/defining-features/data-sources/creating-a-data-source/creating-and-testing-a-push-source) which tells Tecton where to retrieve events online and offline. For the online path, we've configured Tecton to accept real-time events via an HTTP ingestion API which we will try sending records to in the next step. For the offline path, we've pointed Tecton to an S3 path that contains a historical record of our stream. Tecton uses this path for offline development and backfills.\n",
    "\n",
    "Next we define a [Stream Feature View](https://docs.tecton.ai/docs/defining-features/feature-views/stream-feature-view/stream-feature-view-with-rift) which can create one or more features via transformations against the Stream Source. In a Stream Feature View, we can run Python transformations on incoming records, and optionally apply time-windowed [aggregations](https://docs.tecton.ai/docs/defining-features/feature-views/aggregation-engine) via the `aggregations` parameter. These transformations run identically online and offline which is critical for preventing skew.\n",
    "\n",
    "Lastly, we can immediately test our features directly in our notebook via the `get_features_in_range` method. Try it out!"
   ]
  },
  {
   "cell_type": "code",
   "execution_count": 3,
   "metadata": {},
   "outputs": [
    {
     "name": "stdout",
     "output_type": "stream",
     "text": [
      "StreamFeatureView 'user_transaction_amount_totals': Validating 3 dependencies.\n",
      "    StreamSource 'transactions_stream': Deriving schema.\n",
      "    StreamSource 'transactions_stream': Successfully validated.\n",
      "    Entity 'user': Successfully validated.\n",
      "    Transformation 'user_transaction_amount_totals': Successfully validated.\n",
      "StreamFeatureView 'user_transaction_amount_totals': Successfully validated.\n"
     ]
    },
    {
     "data": {
      "text/html": [
       "<div>\n",
       "<style scoped>\n",
       "    .dataframe tbody tr th:only-of-type {\n",
       "        vertical-align: middle;\n",
       "    }\n",
       "\n",
       "    .dataframe tbody tr th {\n",
       "        vertical-align: top;\n",
       "    }\n",
       "\n",
       "    .dataframe thead th {\n",
       "        text-align: right;\n",
       "    }\n",
       "</style>\n",
       "<table border=\"1\" class=\"dataframe\">\n",
       "  <thead>\n",
       "    <tr style=\"text-align: right;\">\n",
       "      <th></th>\n",
       "      <th>user_id</th>\n",
       "      <th>amount_sum_1m_continuous</th>\n",
       "      <th>amount_sum_1h_continuous</th>\n",
       "      <th>amount_sum_30d_continuous</th>\n",
       "      <th>_valid_to</th>\n",
       "      <th>_valid_from</th>\n",
       "    </tr>\n",
       "  </thead>\n",
       "  <tbody>\n",
       "    <tr>\n",
       "      <th>0</th>\n",
       "      <td>user_4063572189</td>\n",
       "      <td>0.0</td>\n",
       "      <td>868.62</td>\n",
       "      <td>4008.09</td>\n",
       "      <td>2022-01-04</td>\n",
       "      <td>2022-01-03</td>\n",
       "    </tr>\n",
       "    <tr>\n",
       "      <th>1</th>\n",
       "      <td>user_9341009982</td>\n",
       "      <td>0.0</td>\n",
       "      <td>41.17</td>\n",
       "      <td>6252.08</td>\n",
       "      <td>2022-01-08</td>\n",
       "      <td>2022-01-07</td>\n",
       "    </tr>\n",
       "    <tr>\n",
       "      <th>2</th>\n",
       "      <td>user_1997016327</td>\n",
       "      <td>0.0</td>\n",
       "      <td>0.00</td>\n",
       "      <td>7106.46</td>\n",
       "      <td>2022-01-13</td>\n",
       "      <td>2022-01-12</td>\n",
       "    </tr>\n",
       "    <tr>\n",
       "      <th>3</th>\n",
       "      <td>user_2210887384</td>\n",
       "      <td>0.0</td>\n",
       "      <td>0.00</td>\n",
       "      <td>2940.89</td>\n",
       "      <td>2022-01-24</td>\n",
       "      <td>2022-01-23</td>\n",
       "    </tr>\n",
       "    <tr>\n",
       "      <th>4</th>\n",
       "      <td>user_2392573024</td>\n",
       "      <td>0.0</td>\n",
       "      <td>0.00</td>\n",
       "      <td>11524.19</td>\n",
       "      <td>2022-01-21</td>\n",
       "      <td>2022-01-20</td>\n",
       "    </tr>\n",
       "  </tbody>\n",
       "</table>\n",
       "</div>"
      ],
      "text/plain": [
       "           user_id  amount_sum_1m_continuous  amount_sum_1h_continuous  \\\n",
       "0  user_4063572189                       0.0                    868.62   \n",
       "1  user_9341009982                       0.0                     41.17   \n",
       "2  user_1997016327                       0.0                      0.00   \n",
       "3  user_2210887384                       0.0                      0.00   \n",
       "4  user_2392573024                       0.0                      0.00   \n",
       "\n",
       "   amount_sum_30d_continuous  _valid_to _valid_from  \n",
       "0                    4008.09 2022-01-04  2022-01-03  \n",
       "1                    6252.08 2022-01-08  2022-01-07  \n",
       "2                    7106.46 2022-01-13  2022-01-12  \n",
       "3                    2940.89 2022-01-24  2022-01-23  \n",
       "4                   11524.19 2022-01-21  2022-01-20  "
      ]
     },
     "execution_count": 3,
     "metadata": {},
     "output_type": "execute_result"
    }
   ],
   "source": [
    "from tecton import *\n",
    "from tecton.types import *\n",
    "from datetime import datetime, timedelta\n",
    "\n",
    "\n",
    "transactions_stream = StreamSource(\n",
    "    name=\"transactions_stream\",\n",
    "    stream_config=PushConfig(),\n",
    "    batch_config=FileConfig(\n",
    "        uri=\"s3://mft-porter-data/tutorials/transactions.pq\",\n",
    "        file_format=\"parquet\",\n",
    "        timestamp_field=\"timestamp\",\n",
    "    ),\n",
    "    schema=[Field(\"user_id\", String), Field(\"timestamp\", Timestamp), Field(\"amount\", Float64)],\n",
    ")\n",
    "\n",
    "\n",
    "user = Entity(name=\"user\", join_keys=[\"user_id\"])\n",
    "\n",
    "\n",
    "@stream_feature_view(\n",
    "    source=transactions_stream,\n",
    "    entities=[user],\n",
    "    mode=\"pandas\",\n",
    "    aggregations=[\n",
    "        Aggregation(function=\"sum\", column=\"amount\", time_window=timedelta(minutes=1)),\n",
    "        Aggregation(function=\"sum\", column=\"amount\", time_window=timedelta(hours=1)),\n",
    "        Aggregation(function=\"sum\", column=\"amount\", time_window=timedelta(days=30)),\n",
    "    ],\n",
    "    schema=[Field(\"user_id\", String), Field(\"timestamp\", Timestamp), Field(\"amount\", Float64)],\n",
    ")\n",
    "def user_transaction_amount_totals(transactions_stream):\n",
    "    return transactions_stream[[\"user_id\", \"timestamp\", \"amount\"]]\n",
    "\n",
    "\n",
    "# Test the feature locally using historical data\n",
    "df = (\n",
    "    user_transaction_amount_totals.get_features_in_range(start_time=datetime(2022, 1, 1), end_time=datetime(2022, 2, 1))\n",
    "    .to_pandas()\n",
    "    .fillna(0)\n",
    ")\n",
    "df.head(5)"
   ]
  },
  {
   "cell_type": "markdown",
   "metadata": {},
   "source": [
    "## ⚡️ Ingest data and retrieve updated feature values in real-time\n",
    "\n",
    "Tecton objects get registered via a [declarative workflow](https://docs.tecton.ai/docs/the-feature-development-workflow). Features are defined as code in a repo and applied to a workspace (like a project) in a Tecton account using the Tecton CLI. This declarative workflow enables productionization best practices such as \"features as code,\" CI/CD, and unit testing.\n",
    "\n",
    "We've gone ahead and [registered these features](https://demo-pangolin.tecton.ai/app/repo/prod/features/user_transaction_amount_totals/pipeline) so you can try ingesting new events and querying for online features. After features get registered with a workspace, Tecton handles the [backfilling and ongoing materialization](https://demo-pangolin.tecton.ai/app/repo/prod/features/user_transaction_amount_totals/materialization) of data to the offline and online store for training and serving.\n",
    "\n",
    "**This step requires generating an API key, which you can do [here](https://demo-pangolin.tecton.ai/app/settings/accounts-and-access/service-accounts?create-service-account=true). Copy the generated key and paste it in below.**"
   ]
  },
  {
   "cell_type": "code",
   "execution_count": 5,
   "metadata": {},
   "outputs": [
    {
     "name": "stdout",
     "output_type": "stream",
     "text": [
      "Generated random user id: user_2269114\n"
     ]
    }
   ],
   "source": [
    "import random, string\n",
    "\n",
    "tecton.set_credentials(tecton_api_key=\"your-api-key\")  # replace with your API key\n",
    "\n",
    "# Fetch registered Tecton objects\n",
    "ws = tecton.get_workspace(\"prod\")\n",
    "ds = ws.get_data_source(\"transactions_stream\")\n",
    "fv = ws.get_feature_view(\"user_transaction_amount_totals\")\n",
    "\n",
    "# Generate a random user_id for the next step\n",
    "user_id = \"user_\" + \"\".join(random.choices(string.digits, k=7))\n",
    "print(\"Generated random user id: \" + user_id)"
   ]
  },
  {
   "cell_type": "markdown",
   "metadata": {},
   "source": [
    "### 🔥 Run this repeatedly and watch the features update!\n",
    "\n",
    "**Note: It may take a few minutes for your API key permissions to update.**"
   ]
  },
  {
   "cell_type": "code",
   "execution_count": 7,
   "metadata": {},
   "outputs": [
    {
     "name": "stdout",
     "output_type": "stream",
     "text": [
      "Ingested record for 'user_2269114':\n",
      "{'workspaceName': 'prod', 'ingestMetrics': {'featureViewIngestMetrics': [{'featureViewName': 'user_transaction_amount_totals', 'onlineRecordIngestCount': '1', 'featureViewId': '73ed15b75c519022d5508f86de28c9b9'}]}}\n",
      "\n",
      "Updated features for 'user_2269114':\n",
      "{'amount_sum_1h_continuous': 200.0, 'amount_sum_1m_continuous': 200.0, 'amount_sum_30d_continuous': 200.0}\n"
     ]
    }
   ],
   "source": [
    "\n",
    "# Ingest a new transaction with any amount you want\n",
    "record = ds.ingest({\"user_id\": user_id, \"timestamp\": datetime.utcnow(), \"amount\": 100})\n",
    "print(f\"Ingested record for '{user_id}':\")\n",
    "print(record)\n",
    "\n",
    "# Read updated features via Tecton's HTTP API\n",
    "features = fv.get_online_features(join_keys={\"user_id\": user_id}).to_dict()\n",
    "print(f\"\\nUpdated features for '{user_id}':\")\n",
    "print(features)"
   ]
  },
  {
   "cell_type": "markdown",
   "metadata": {},
   "source": [
    "## ⭐️ Conclusion\n",
    "\n",
    "Now that you've seen how easy it is to build real-time features with Tecton, check out our Building a Production AI Application tutorial to see how you can productionize an end-to-end online AI Application in just 30 minutes."
   ]
  }
 ],
 "metadata": {
  "kernelspec": {
   "display_name": "base",
   "language": "python",
   "name": "python3"
  },
  "language_info": {
   "codemirror_mode": {
    "name": "ipython",
    "version": 3
   },
   "file_extension": ".py",
   "mimetype": "text/x-python",
   "name": "python",
   "nbconvert_exporter": "python",
   "pygments_lexer": "ipython3",
   "version": "3.11.9"
  }
 },
 "nbformat": 4,
 "nbformat_minor": 2
}
